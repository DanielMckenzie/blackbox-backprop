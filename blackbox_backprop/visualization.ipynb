{
 "cells": [
  {
   "cell_type": "markdown",
   "metadata": {},
   "source": [
    "# Plot generator for $\\mathbf{f_\\lambda}$ landscape"
   ]
  },
  {
   "cell_type": "markdown",
   "metadata": {},
   "source": [
    "This notebook is used for generating plots of the perturbed loss landscape $f_\\lambda$ following the method proposed in $\\textit{Differentiation of Blackbox Combinatorial Solvers}$ [arXiv:1912.02175]."
   ]
  },
  {
   "cell_type": "markdown",
   "metadata": {},
   "source": [
    "Problems can be added by specifying the solver and the input-generation function as shown below.\n",
    "The input-generation should provide:\n",
    "- the config for the solver\n",
    "- a two-dimensional cut of a higher dimensional $w$-landscape \n",
    "- some gradient $\\frac{dL}{dy}$ of the loss with respect to $y$, for which the perturbed linearized loss landscape $f_\\lambda$ should be plotted. \n",
    "\n",
    "For details on the provided helper functions to generate these inputs, as well as the calculations done for the plots, see utils.flamba_utils."
   ]
  },
  {
   "cell_type": "markdown",
   "metadata": {},
   "source": [
    "Implemented are solvers for GraphMatching, MultiGraphMatching, TravellingSalesman, Ranking and ShortestPath."
   ]
  },
  {
   "cell_type": "code",
   "execution_count": 2,
   "metadata": {},
   "outputs": [
    {
     "ename": "ImportError",
     "evalue": "attempted relative import with no known parent package",
     "output_type": "error",
     "traceback": [
      "\u001b[0;31m---------------------------------------------------------------------------\u001b[0m",
      "\u001b[0;31mImportError\u001b[0m                               Traceback (most recent call last)",
      "\u001b[0;32m<ipython-input-2-97b7a7da49d9>\u001b[0m in \u001b[0;36m<module>\u001b[0;34m\u001b[0m\n\u001b[0;32m----> 1\u001b[0;31m \u001b[0;32mfrom\u001b[0m \u001b[0mshortest_path\u001b[0m\u001b[0;34m.\u001b[0m\u001b[0mpy\u001b[0m \u001b[0;32mimport\u001b[0m \u001b[0mdijkstra\u001b[0m\u001b[0;34m\u001b[0m\u001b[0;34m\u001b[0m\u001b[0m\n\u001b[0m\u001b[1;32m      2\u001b[0m \u001b[0;32mfrom\u001b[0m \u001b[0mvisualization_utils\u001b[0m \u001b[0;32mimport\u001b[0m \u001b[0;34m*\u001b[0m\u001b[0;34m\u001b[0m\u001b[0;34m\u001b[0m\u001b[0m\n\u001b[1;32m      3\u001b[0m \u001b[0;34m\u001b[0m\u001b[0m\n\u001b[1;32m      4\u001b[0m \u001b[0;32mfrom\u001b[0m \u001b[0mlpmp_py\u001b[0m \u001b[0;32mimport\u001b[0m \u001b[0mgm_solver\u001b[0m\u001b[0;34m\u001b[0m\u001b[0;34m\u001b[0m\u001b[0m\n\u001b[1;32m      5\u001b[0m \u001b[0;32mfrom\u001b[0m \u001b[0mlpmp_py\u001b[0m \u001b[0;32mimport\u001b[0m \u001b[0mmgm_solver\u001b[0m\u001b[0;34m\u001b[0m\u001b[0;34m\u001b[0m\u001b[0m\n",
      "\u001b[0;32m~/Documents/Projects/blackbox-backprop/blackbox_backprop/shortest_path.py\u001b[0m in \u001b[0;36m<module>\u001b[0;34m\u001b[0m\n\u001b[1;32m      6\u001b[0m \u001b[0;32mimport\u001b[0m \u001b[0mtorch\u001b[0m\u001b[0;34m\u001b[0m\u001b[0;34m\u001b[0m\u001b[0m\n\u001b[1;32m      7\u001b[0m \u001b[0;34m\u001b[0m\u001b[0m\n\u001b[0;32m----> 8\u001b[0;31m \u001b[0;32mfrom\u001b[0m \u001b[0;34m.\u001b[0m\u001b[0mutils\u001b[0m \u001b[0;32mimport\u001b[0m \u001b[0mmaybe_parallelize\u001b[0m\u001b[0;34m\u001b[0m\u001b[0;34m\u001b[0m\u001b[0m\n\u001b[0m\u001b[1;32m      9\u001b[0m \u001b[0;34m\u001b[0m\u001b[0m\n\u001b[1;32m     10\u001b[0m \u001b[0;34m\u001b[0m\u001b[0m\n",
      "\u001b[0;31mImportError\u001b[0m: attempted relative import with no known parent package"
     ]
    }
   ],
   "source": [
    "from visualization_utils import *\n",
    "\n",
    "from lpmp_py import gm_solver\n",
    "from lpmp_py import mgm_solver\n",
    "from travelling_salesman import gurobi_tsp\n",
    "from shortest_path import dijkstra"
   ]
  },
  {
   "cell_type": "code",
   "execution_count": 2,
   "metadata": {},
   "outputs": [],
   "source": [
    "class GraphMatchingBBSolver(BlackboxSolverAbstract):\n",
    "    \"\"\"\n",
    "    Graph matching solver.\n",
    "    \"\"\"\n",
    "    @staticmethod\n",
    "    def solver(inputs, edges_left, edges_right, solver_params):\n",
    "        unary_costs, quadratic_costs = inputs\n",
    "        m, m_q = gm_solver(unary_costs, quadratic_costs, edges_left, edges_right, solver_params, verbose=False)\n",
    "        return m, m_q\n",
    "     \n",
    "    @staticmethod\n",
    "    def gen_input(num_nodes_l, num_edges_l, seed, wn_f=10, wn_s=0, ws_f=1, ws_s=0, y_f=1, y_s=0, directed_edges=False):\n",
    "        w_slice_l, y_grad_l = gen_w_and_y_grad(\n",
    "            seed=seed, \n",
    "            # Choose a different n_factor, n_shift, s_factor, s_shift to specify a different cut\n",
    "            params=[dict(shape=num_nodes_l, w_slice_par=dict(mode='slice_random', n_factor=wn_f, n_shift=wn_s, s_factor=ws_f, s_shift=ws_s), \n",
    "                         y_grad_par=dict(mode='hamming_random', factor=y_f, shift=y_s)),  # unary costs\n",
    "                    dict(shape=num_edges_l, w_slice_par=dict(mode='const_random', n_factor=wn_f, n_shift=wn_s, s_factor=ws_f, s_shift=ws_s), \n",
    "                         y_grad_par=dict(mode='zero'))])  # quadratic costs\n",
    "\n",
    "        edges_left, edges_right = [gen_edges(nn, ne, directed=directed_edges) for nn, ne in zip(num_nodes_l, num_edges_l)]\n",
    "        solver_params = {\n",
    "            'timeout': 100, \n",
    "            'primalComputationInterval': 10, \n",
    "            'maxIter': 100000,\n",
    "            'graphMatchingRounding': 'mcf', \n",
    "            'graphMatchingFrankWolfeIterations': 50\n",
    "        }\n",
    "        solver_config = dict(edges_left=edges_left, edges_right=edges_right, solver_params=solver_params)\n",
    "        return w_slice_l, y_grad_l, solver_config\n",
    "    \n",
    "\n",
    "\n",
    "class MultiGraphMatchingBBSolver(BlackboxSolverAbstract):\n",
    "    \"\"\"\n",
    "    Multigraph matching solver.\n",
    "    \"\"\"\n",
    "    @staticmethod\n",
    "    def solver(inputs, edges, solver_params):\n",
    "        l = len(inputs)//2\n",
    "        unary_costs_l, quadratic_costs_l = inputs[:l], inputs[l:]\n",
    "        m_l, m_q_l = mgm_solver(unary_costs_l, quadratic_costs_l, edges, solver_params, verbose=False)\n",
    "        return m_l + m_q_l\n",
    "    \n",
    "    @staticmethod\n",
    "    def gen_input(num_nodes_l, num_edges_l, seed, wn_f=1, wn_s=0, ws_f=1, ws_s=0, y_f=1, y_s=0, directed_edges=False):\n",
    "        unary_shapes = [(i, j) for i, j in it.combinations(num_nodes_l, 2)]\n",
    "        quadratic_shapes = [(i, j) for i, j in it.combinations(num_edges_l, 2)]\n",
    "        \n",
    "        params_unary = [dict(shape=shape, w_slice_par=dict(mode='slice_random', n_factor=wn_f, n_shift=wn_s, s_factor=ws_f, s_shift=ws_s), \n",
    "                             y_grad_par=dict(mode='hamming_random', factor=y_f, shift=y_s)) for shape in unary_shapes]\n",
    "        params_quadratic = [dict(shape=shape, w_slice_par=dict(mode='const_random', n_factor=wn_f, n_shift=wn_s, s_factor=ws_f, s_shift=ws_s), \n",
    "                                 y_grad_par=dict(mode='zero')) for shape in quadratic_shapes]\n",
    "        params = params_unary + params_quadratic\n",
    "        \n",
    "        w_slice_l, y_grad_l = gen_w_and_y_grad(seed=seed, params=params)\n",
    "\n",
    "        edges = [gen_edges(nn, ne, directed=directed_edges) for nn, ne in zip(num_nodes_l, num_edges_l)]\n",
    "        solver_params = {\n",
    "           \"maxIter\": 20,\n",
    "           \"innerIteration\": 10,\n",
    "           \"presolveIterations\": 30,\n",
    "           \"primalCheckingTriplets\": 100,\n",
    "           \"multigraphMatchingRoundingMethod\": \"MCF_PS\",\n",
    "           \"tighten\": \"\",\n",
    "           \"tightenIteration\": 50,\n",
    "           \"tightenInterval\": 20,\n",
    "           \"tightenConstraintsPercentage\": 0.1,\n",
    "           \"tightenReparametrization\": \"uniform:0.5\"\n",
    "        }\n",
    "        solver_config = dict(edges=edges, solver_params=solver_params)\n",
    "        return w_slice_l, y_grad_l, solver_config\n",
    "    \n",
    "    \n",
    "class RankingBBSolver(BlackboxSolverAbstract):\n",
    "    \"\"\"\n",
    "    Ranking solver.\n",
    "    \"\"\"\n",
    "    @staticmethod\n",
    "    def ranks_normal (sequence):\n",
    "        return (np.argsort(np.argsort(sequence)[::-1])+1) / float(len(sequence))\n",
    "\n",
    "    @staticmethod\n",
    "    def solver(inputs):\n",
    "        sequence = inputs[0]\n",
    "        s = RankingBBSolver.ranks_normal(sequence)\n",
    "        return [s]\n",
    "    \n",
    "    @staticmethod\n",
    "    def gen_input(sequence_length, seed, wn_f=1, wn_s=0, ws_f=1, ws_s=0, y_f=1, y_s=0):\n",
    "        w_slice_l, y_grad_l = gen_w_and_y_grad(\n",
    "            seed=seed, \n",
    "            params=[dict(shape=[sequence_length], w_slice_par=dict(mode='slice_random', n_factor=wn_f, n_shift=wn_s, s_factor=ws_f, s_shift=ws_s),\n",
    "                         y_grad_par=dict(mode='random', factor=y_f, shift=y_s))])\n",
    "\n",
    "        solver_config = dict()\n",
    "        return w_slice_l, y_grad_l, solver_config\n",
    "\n",
    "\n",
    "class TSPBBSolver(BlackboxSolverAbstract):\n",
    "    \"\"\"\n",
    "    Tsp solver.\n",
    "    \"\"\"\n",
    "    @staticmethod\n",
    "    def solver(inputs):\n",
    "        matrix = inputs[0]\n",
    "        m = gurobi_tsp(matrix)\n",
    "        return [m]\n",
    "     \n",
    "    @staticmethod\n",
    "    def gen_input(num_nodes, seed, wn_f=1, wn_s=0, ws_f=1, ws_s=0, y_f=1, y_s=0):\n",
    "        w_slice_l, y_grad_l = gen_w_and_y_grad(\n",
    "            seed=seed, \n",
    "            params=[dict(shape=(num_nodes, num_nodes), w_slice_par=dict(mode='slice_random', n_factor=wn_f, n_shift=wn_s, s_factor=ws_f, s_shift=ws_s, sym=True), \n",
    "                         y_grad_par=dict(mode='hamming_random', factor=y_f, shift=y_s, sym=True))])\n",
    "        \n",
    "        solver_config = dict()\n",
    "        return w_slice_l, y_grad_l, solver_config\n",
    "\n",
    "\n",
    "class ShortestPathBBSolver(BlackboxSolverAbstract):\n",
    "    \"\"\"\n",
    "    Shortest path solver.\n",
    "    \"\"\"\n",
    "    @staticmethod\n",
    "    def solver(inputs, neighbourhood_fn):\n",
    "        matrix = inputs[0]\n",
    "        m = dijkstra(matrix, neighbourhood_fn, request_transitions=False)[0]\n",
    "        #print(matrix, m)\n",
    "        return [m]\n",
    "     \n",
    "    @staticmethod\n",
    "    def gen_input(num_nodes, seed, wn_f=1, wn_s=0, ws_f=1, ws_s=0, y_f=1, y_s=0):\n",
    "        w_slice_l, y_grad_l = gen_w_and_y_grad(\n",
    "            seed=seed, \n",
    "            params=[dict(shape=(num_nodes, num_nodes), w_slice_par=dict(mode='slice_random', n_factor=wn_f, n_shift=wn_s, s_factor=ws_f, s_shift=ws_s, pos=True), \n",
    "                         y_grad_par=dict(mode='hamming_random', factor=y_f, shift=y_s))])\n",
    "        \n",
    "        solver_config = dict(neighbourhood_fn=\"8-grid\")\n",
    "        return w_slice_l, y_grad_l, solver_config\n",
    "    \n",
    "    \n",
    "\n"
   ]
  },
  {
   "cell_type": "markdown",
   "metadata": {},
   "source": [
    "Some example problems are generated in the following:"
   ]
  },
  {
   "cell_type": "markdown",
   "metadata": {},
   "source": [
    "The challenge is always to find values for the $w$-cut and the $\\frac{dL}{dy}$ that produce interesting results, as in producing multiple different outputs of the solver. To find these regions there are various parameters that can be changed, including shifts and factors for changing the randomized inputs to values that \"fit\" the solver, as well as the seed. The boundaries for the plotting region can also be changed.\n",
    "\n",
    "First lets have a look at some nice looking plots of $f_\\lambda$:"
   ]
  },
  {
   "cell_type": "code",
   "execution_count": 3,
   "metadata": {},
   "outputs": [],
   "source": [
    "lambdas = [0.000001, 1, 10, 20, 40, 100, 200]"
   ]
  },
  {
   "cell_type": "code",
   "execution_count": 4,
   "metadata": {},
   "outputs": [
    {
     "data": {
      "application/vnd.jupyter.widget-view+json": {
       "model_id": "376a21a44a1a45a19b07505d6d18099e",
       "version_major": 2,
       "version_minor": 0
      },
      "text/plain": [
       "VBox(children=(Figure(animation=400.0, camera=PerspectiveCamera(fov=46.0, position=(-2.0, 1.0, -0.5), quaterni…"
      ]
     },
     "metadata": {},
     "output_type": "display_data"
    }
   ],
   "source": [
    "rk_solv = RankingBBSolver(sequence_length=10, seed=41, wn_f=30, ws_f=20, y_s=1)  # the last three arguments change the values of w and y_grad\n",
    "rk_solv.plot_flambda(lambdas=lambdas, partitions=50, bounds1=(0.0, 1.0), bounds2=(0.0, 1.0))"
   ]
  },
  {
   "cell_type": "code",
   "execution_count": 6,
   "metadata": {},
   "outputs": [
    {
     "data": {
      "application/vnd.jupyter.widget-view+json": {
       "model_id": "3c70f8d4444441ef970c88d0fa97dc51",
       "version_major": 2,
       "version_minor": 0
      },
      "text/plain": [
       "VBox(children=(Figure(animation=400.0, camera=PerspectiveCamera(fov=46.0, position=(-2.0, 1.0, -0.5), quaterni…"
      ]
     },
     "metadata": {},
     "output_type": "display_data"
    }
   ],
   "source": [
    "tsp_solv = TSPBBSolver(num_nodes=5, seed=42, wn_f=10, ws_f=20, y_f=1)\n",
    "tsp_solv.plot_flambda(lambdas=lambdas, partitions=10, bounds1=(-1.0, 1.0), bounds2=(-1.0, 1.0), show_axes=False, show_box=False)"
   ]
  },
  {
   "cell_type": "code",
   "execution_count": 6,
   "metadata": {},
   "outputs": [
    {
     "data": {
      "application/vnd.jupyter.widget-view+json": {
       "model_id": "482e3dc7e057492aa36cb391c07b1ec2",
       "version_major": 2,
       "version_minor": 0
      },
      "text/plain": [
       "VBox(children=(Figure(animation=400.0, camera=PerspectiveCamera(fov=46.0, position=(-2.0, 1.0, -0.5), quaterni…"
      ]
     },
     "metadata": {},
     "output_type": "display_data"
    }
   ],
   "source": [
    "gm_solv = GraphMatchingBBSolver(num_nodes_l=[5, 5], num_edges_l=[6, 6], seed=42, wn_f=10, y_f=0.1)\n",
    "gm_solv.plot_flambda(lambdas=lambdas, partitions=20, bounds1=(-1.0, 1.0), bounds2=(-1.0, 1.0))"
   ]
  },
  {
   "cell_type": "code",
   "execution_count": 7,
   "metadata": {},
   "outputs": [
    {
     "data": {
      "application/vnd.jupyter.widget-view+json": {
       "model_id": "0a923c21a0904cb4a2d64aa899d1cfb2",
       "version_major": 2,
       "version_minor": 0
      },
      "text/plain": [
       "VBox(children=(Figure(animation=400.0, camera=PerspectiveCamera(fov=46.0, position=(-2.0, 1.0, -0.5), quaterni…"
      ]
     },
     "metadata": {},
     "output_type": "display_data"
    }
   ],
   "source": [
    "sp_solv = ShortestPathBBSolver(num_nodes=10, seed=410, y_f=0.01)\n",
    "sp_solv.plot_flambda(lambdas=lambdas, partitions=30, bounds1=(0.0, 1.0), bounds2=(0.0, 1.0))"
   ]
  },
  {
   "cell_type": "markdown",
   "metadata": {},
   "source": [
    "Use of margin: Specifying multiple margins will plot the landscape for all lambdas, for each margin. The slider controls both lambda and margin.\n",
    "In the example below, we use shortest path and examine interesting behaviour around the origin. This happens, because for $w_1 = w_2 = 0$ with the provided $w$-cut (which has the shift set to zero) we get to the point were the higher-dimensional true $w$ reaches the point 0. This is a special point as for strictly positive weights, we always have a minimum of the linearized loss ($f = w \\cdot \\frac{df}{dy} = 0 \\cdot \\frac{df}{dy} = 0$) and around this point all possible values of the loss are achieved. An introduced margin can deal with this by shifting the loss landscape away from the 0-point to the actual minimum."
   ]
  },
  {
   "cell_type": "code",
   "execution_count": 8,
   "metadata": {
    "scrolled": false
   },
   "outputs": [
    {
     "data": {
      "application/vnd.jupyter.widget-view+json": {
       "model_id": "628274c4ba57409e95caaf4b6b03957f",
       "version_major": 2,
       "version_minor": 0
      },
      "text/plain": [
       "VBox(children=(Figure(animation=400.0, camera=PerspectiveCamera(fov=46.0, position=(-2.0, 1.0, -0.5), quaterni…"
      ]
     },
     "metadata": {},
     "output_type": "display_data"
    }
   ],
   "source": [
    "sp_solv = ShortestPathBBSolver(num_nodes=10, seed=410, y_f=0.01, ws_f=0)\n",
    "sp_solv.plot_flambda(lambdas=lambdas, margins=[0, 0.5], partitions=30, bounds1=(0.0, 1.0), bounds2=(0.0, 1.0), plot_cost=True)"
   ]
  },
  {
   "cell_type": "markdown",
   "metadata": {},
   "source": [
    "Finally, the multigraph solver takes a while:"
   ]
  },
  {
   "cell_type": "code",
   "execution_count": 9,
   "metadata": {},
   "outputs": [
    {
     "data": {
      "application/vnd.jupyter.widget-view+json": {
       "model_id": "413ab352ad934d7aaf17fe092708e788",
       "version_major": 2,
       "version_minor": 0
      },
      "text/plain": [
       "VBox(children=(Figure(animation=400.0, camera=PerspectiveCamera(fov=46.0, position=(-2.0, 1.0, -0.5), quaterni…"
      ]
     },
     "metadata": {},
     "output_type": "display_data"
    }
   ],
   "source": [
    "mgm_solv = MultiGraphMatchingBBSolver(num_nodes_l=[5, 5], num_edges_l=[6, 6], seed=42, wn_f=10, y_f=0.1)\n",
    "mgm_solv.plot_flambda(lambdas=lambdas, bounds1=(-1.0,1.0), bounds2=(-1.0,1.0), partitions=10)"
   ]
  },
  {
   "cell_type": "code",
   "execution_count": 10,
   "metadata": {},
   "outputs": [],
   "source": [
    "#mgm_solv = MultiGraphMatchingBBSolver(num_nodes_l=[3, 3, 3], num_edges_l=[6, 6, 6], seed=42, wn_f=10, y_f=0.1)\n",
    "#mgm_solv.plot_flambda(lambdas=[0.0000001, 1, 10], bounds1=(-1.0,1.0), bounds2=(-1.0,1.0), partitions=10)"
   ]
  },
  {
   "cell_type": "code",
   "execution_count": null,
   "metadata": {},
   "outputs": [],
   "source": []
  }
 ],
 "metadata": {
  "kernelspec": {
   "display_name": "Python 3",
   "language": "python",
   "name": "python3"
  },
  "language_info": {
   "codemirror_mode": {
    "name": "ipython",
    "version": 3
   },
   "file_extension": ".py",
   "mimetype": "text/x-python",
   "name": "python",
   "nbconvert_exporter": "python",
   "pygments_lexer": "ipython3",
   "version": "3.6.8"
  }
 },
 "nbformat": 4,
 "nbformat_minor": 2
}
